{
  "nbformat": 4,
  "nbformat_minor": 0,
  "metadata": {
    "accelerator": "GPU",
    "colab": {
      "name": "Course 3 - Week 3 - Lesson 2.ipynb",
      "provenance": [],
      "collapsed_sections": [],
      "toc_visible": true
    },
    "kernelspec": {
      "display_name": "Python 3",
      "language": "python",
      "name": "python3"
    },
    "language_info": {
      "codemirror_mode": {
        "name": "ipython",
        "version": 3
      },
      "file_extension": ".py",
      "mimetype": "text/x-python",
      "name": "python",
      "nbconvert_exporter": "python",
      "pygments_lexer": "ipython3",
      "version": "3.7.6"
    }
  },
  "cells": [
    {
      "cell_type": "code",
      "metadata": {
        "colab_type": "code",
        "id": "zX4Kg8DUTKWO",
        "colab": {}
      },
      "source": [
        "#@title Licensed under the Apache License, Version 2.0 (the \"License\");\n",
        "# you may not use this file except in compliance with the License.\n",
        "# You may obtain a copy of the License at\n",
        "#\n",
        "# https://www.apache.org/licenses/LICENSE-2.0\n",
        "#\n",
        "# Unless required by applicable law or agreed to in writing, software\n",
        "# distributed under the License is distributed on an \"AS IS\" BASIS,\n",
        "# WITHOUT WARRANTIES OR CONDITIONS OF ANY KIND, either express or implied.\n",
        "# See the License for the specific language governing permissions and\n",
        "# limitations under the License."
      ],
      "execution_count": null,
      "outputs": []
    },
    {
      "cell_type": "markdown",
      "metadata": {
        "id": "TmQ8LSp3M5KO",
        "colab_type": "text"
      },
      "source": [
        "<a href=\"https://colab.research.google.com/github/lmoroney/dlaicourse/blob/master/TensorFlow%20In%20Practice/Course%203%20-%20NLP/Course%203%20-%20Week%203%20-%20Lesson%202.ipynb\" target=\"_parent\"><img src=\"https://colab.research.google.com/assets/colab-badge.svg\" alt=\"Open In Colab\"/></a>"
      ]
    },
    {
      "cell_type": "code",
      "metadata": {
        "colab_type": "code",
        "id": "jGwXGIXvFhXW",
        "colab": {
          "base_uri": "https://localhost:8080/",
          "height": 1000
        },
        "outputId": "7d6466af-6935-4085-d08b-d83ba3b1ef0d"
      },
      "source": [
        "import numpy as np\n",
        "\n",
        "import json\n",
        "import tensorflow as tf\n",
        "\n",
        "from tensorflow.keras.preprocessing.text import Tokenizer\n",
        "from tensorflow.keras.preprocessing.sequence import pad_sequences\n",
        "\n",
        "!wget --no-check-certificate \\\n",
        "    https://storage.googleapis.com/laurencemoroney-blog.appspot.com/sarcasm.json \\\n",
        "    -O /tmp/sarcasm.json\n",
        "\n",
        "vocab_size = 1000\n",
        "embedding_dim = 16\n",
        "max_length = 120\n",
        "trunc_type='post'\n",
        "padding_type='post'\n",
        "oov_tok = \"<OOV>\"\n",
        "training_size = 20000\n",
        "\n",
        "\n",
        "with open(\"/tmp/sarcasm.json\", 'r') as f:\n",
        "    datastore = json.load(f)\n",
        "\n",
        "\n",
        "sentences = []\n",
        "labels = []\n",
        "urls = []\n",
        "for item in datastore:\n",
        "    sentences.append(item['headline'])\n",
        "    labels.append(item['is_sarcastic'])\n",
        "\n",
        "training_sentences = sentences[0:training_size]\n",
        "testing_sentences = sentences[training_size:]\n",
        "training_labels = labels[0:training_size]\n",
        "testing_labels = labels[training_size:]\n",
        "\n",
        "tokenizer = Tokenizer(num_words=vocab_size, oov_token=oov_tok)\n",
        "tokenizer.fit_on_texts(training_sentences)\n",
        "\n",
        "word_index = tokenizer.word_index\n",
        "\n",
        "training_sequences = tokenizer.texts_to_sequences(training_sentences)\n",
        "training_padded = pad_sequences(training_sequences, maxlen=max_length, padding=padding_type, truncating=trunc_type)\n",
        "\n",
        "testing_sequences = tokenizer.texts_to_sequences(testing_sentences)\n",
        "testing_padded = pad_sequences(testing_sequences, maxlen=max_length, padding=padding_type, truncating=trunc_type)\n",
        "\n",
        "model = tf.keras.Sequential([\n",
        "    tf.keras.layers.Embedding(vocab_size, embedding_dim, input_length=max_length),\n",
        "    tf.keras.layers.Bidirectional(tf.keras.layers.LSTM(32)),\n",
        "    tf.keras.layers.Dense(24, activation='relu'),\n",
        "    tf.keras.layers.Dense(1, activation='sigmoid')\n",
        "])\n",
        "model.compile(loss='binary_crossentropy',optimizer='adam',metrics=['accuracy'])\n",
        "model.summary()\n",
        "\n",
        "num_epochs = 50\n",
        "training_padded = np.array(training_padded)\n",
        "training_labels = np.array(training_labels)\n",
        "testing_padded = np.array(testing_padded)\n",
        "testing_labels = np.array(testing_labels)\n",
        "history = model.fit(training_padded, training_labels, epochs=num_epochs, validation_data=(testing_padded, testing_labels), verbose=1)\n"
      ],
      "execution_count": 1,
      "outputs": [
        {
          "output_type": "stream",
          "text": [
            "--2020-08-31 06:29:09--  https://storage.googleapis.com/laurencemoroney-blog.appspot.com/sarcasm.json\n",
            "Resolving storage.googleapis.com (storage.googleapis.com)... 74.125.24.128, 74.125.200.128, 2404:6800:4003:c05::80, ...\n",
            "Connecting to storage.googleapis.com (storage.googleapis.com)|74.125.24.128|:443... connected.\n",
            "HTTP request sent, awaiting response... 200 OK\n",
            "Length: 5643545 (5.4M) [application/json]\n",
            "Saving to: ‘/tmp/sarcasm.json’\n",
            "\n",
            "/tmp/sarcasm.json   100%[===================>]   5.38M  20.4MB/s    in 0.3s    \n",
            "\n",
            "2020-08-31 06:29:10 (20.4 MB/s) - ‘/tmp/sarcasm.json’ saved [5643545/5643545]\n",
            "\n",
            "Model: \"sequential\"\n",
            "_________________________________________________________________\n",
            "Layer (type)                 Output Shape              Param #   \n",
            "=================================================================\n",
            "embedding (Embedding)        (None, 120, 16)           16000     \n",
            "_________________________________________________________________\n",
            "bidirectional (Bidirectional (None, 64)                12544     \n",
            "_________________________________________________________________\n",
            "dense (Dense)                (None, 24)                1560      \n",
            "_________________________________________________________________\n",
            "dense_1 (Dense)              (None, 1)                 25        \n",
            "=================================================================\n",
            "Total params: 30,129\n",
            "Trainable params: 30,129\n",
            "Non-trainable params: 0\n",
            "_________________________________________________________________\n",
            "Epoch 1/50\n",
            "625/625 [==============================] - 9s 15ms/step - loss: 0.4529 - accuracy: 0.7712 - val_loss: 0.3972 - val_accuracy: 0.8158\n",
            "Epoch 2/50\n",
            "625/625 [==============================] - 8s 13ms/step - loss: 0.3614 - accuracy: 0.8324 - val_loss: 0.3807 - val_accuracy: 0.8255\n",
            "Epoch 3/50\n",
            "625/625 [==============================] - 8s 13ms/step - loss: 0.3409 - accuracy: 0.8446 - val_loss: 0.3737 - val_accuracy: 0.8316\n",
            "Epoch 4/50\n",
            "625/625 [==============================] - 8s 13ms/step - loss: 0.3220 - accuracy: 0.8563 - val_loss: 0.3744 - val_accuracy: 0.8323\n",
            "Epoch 5/50\n",
            "625/625 [==============================] - 8s 13ms/step - loss: 0.3051 - accuracy: 0.8649 - val_loss: 0.3832 - val_accuracy: 0.8314\n",
            "Epoch 6/50\n",
            "625/625 [==============================] - 8s 14ms/step - loss: 0.2943 - accuracy: 0.8702 - val_loss: 0.3752 - val_accuracy: 0.8332\n",
            "Epoch 7/50\n",
            "625/625 [==============================] - 9s 14ms/step - loss: 0.2838 - accuracy: 0.8738 - val_loss: 0.3924 - val_accuracy: 0.8304\n",
            "Epoch 8/50\n",
            "625/625 [==============================] - 9s 14ms/step - loss: 0.2745 - accuracy: 0.8808 - val_loss: 0.3808 - val_accuracy: 0.8277\n",
            "Epoch 9/50\n",
            "625/625 [==============================] - 8s 13ms/step - loss: 0.2685 - accuracy: 0.8813 - val_loss: 0.3912 - val_accuracy: 0.8308\n",
            "Epoch 10/50\n",
            "625/625 [==============================] - 8s 13ms/step - loss: 0.2605 - accuracy: 0.8874 - val_loss: 0.3955 - val_accuracy: 0.8326\n",
            "Epoch 11/50\n",
            "625/625 [==============================] - 8s 13ms/step - loss: 0.2519 - accuracy: 0.8905 - val_loss: 0.4056 - val_accuracy: 0.8289\n",
            "Epoch 12/50\n",
            "625/625 [==============================] - 8s 13ms/step - loss: 0.2455 - accuracy: 0.8949 - val_loss: 0.4065 - val_accuracy: 0.8283\n",
            "Epoch 13/50\n",
            "625/625 [==============================] - 8s 13ms/step - loss: 0.2369 - accuracy: 0.9001 - val_loss: 0.4205 - val_accuracy: 0.8240\n",
            "Epoch 14/50\n",
            "625/625 [==============================] - 8s 13ms/step - loss: 0.2282 - accuracy: 0.9018 - val_loss: 0.4468 - val_accuracy: 0.8255\n",
            "Epoch 15/50\n",
            "625/625 [==============================] - 8s 13ms/step - loss: 0.2208 - accuracy: 0.9060 - val_loss: 0.4794 - val_accuracy: 0.8228\n",
            "Epoch 16/50\n",
            "625/625 [==============================] - 8s 13ms/step - loss: 0.2133 - accuracy: 0.9097 - val_loss: 0.4690 - val_accuracy: 0.8238\n",
            "Epoch 17/50\n",
            "625/625 [==============================] - 8s 13ms/step - loss: 0.2040 - accuracy: 0.9139 - val_loss: 0.4785 - val_accuracy: 0.8220\n",
            "Epoch 18/50\n",
            "625/625 [==============================] - 8s 13ms/step - loss: 0.1953 - accuracy: 0.9183 - val_loss: 0.5138 - val_accuracy: 0.8134\n",
            "Epoch 19/50\n",
            "625/625 [==============================] - 8s 13ms/step - loss: 0.1896 - accuracy: 0.9212 - val_loss: 0.5405 - val_accuracy: 0.8153\n",
            "Epoch 20/50\n",
            "625/625 [==============================] - 8s 13ms/step - loss: 0.1821 - accuracy: 0.9238 - val_loss: 0.5655 - val_accuracy: 0.8146\n",
            "Epoch 21/50\n",
            "625/625 [==============================] - 8s 13ms/step - loss: 0.1734 - accuracy: 0.9286 - val_loss: 0.6478 - val_accuracy: 0.8122\n",
            "Epoch 22/50\n",
            "625/625 [==============================] - 8s 13ms/step - loss: 0.1671 - accuracy: 0.9315 - val_loss: 0.6818 - val_accuracy: 0.8100\n",
            "Epoch 23/50\n",
            "625/625 [==============================] - 8s 13ms/step - loss: 0.1597 - accuracy: 0.9348 - val_loss: 0.6397 - val_accuracy: 0.8086\n",
            "Epoch 24/50\n",
            "625/625 [==============================] - 8s 13ms/step - loss: 0.1549 - accuracy: 0.9351 - val_loss: 0.7065 - val_accuracy: 0.8117\n",
            "Epoch 25/50\n",
            "625/625 [==============================] - 8s 13ms/step - loss: 0.1480 - accuracy: 0.9399 - val_loss: 0.8108 - val_accuracy: 0.8098\n",
            "Epoch 26/50\n",
            "625/625 [==============================] - 8s 13ms/step - loss: 0.1389 - accuracy: 0.9441 - val_loss: 0.8295 - val_accuracy: 0.8103\n",
            "Epoch 27/50\n",
            "625/625 [==============================] - 8s 13ms/step - loss: 0.1368 - accuracy: 0.9445 - val_loss: 0.8843 - val_accuracy: 0.8076\n",
            "Epoch 28/50\n",
            "625/625 [==============================] - 8s 13ms/step - loss: 0.1317 - accuracy: 0.9467 - val_loss: 0.8603 - val_accuracy: 0.8058\n",
            "Epoch 29/50\n",
            "625/625 [==============================] - 8s 13ms/step - loss: 0.1269 - accuracy: 0.9489 - val_loss: 0.9019 - val_accuracy: 0.8024\n",
            "Epoch 30/50\n",
            "625/625 [==============================] - 8s 13ms/step - loss: 0.1246 - accuracy: 0.9500 - val_loss: 0.9730 - val_accuracy: 0.8065\n",
            "Epoch 31/50\n",
            "625/625 [==============================] - 8s 12ms/step - loss: 0.1123 - accuracy: 0.9531 - val_loss: 1.1298 - val_accuracy: 0.8027\n",
            "Epoch 32/50\n",
            "625/625 [==============================] - 8s 13ms/step - loss: 0.1141 - accuracy: 0.9542 - val_loss: 1.0273 - val_accuracy: 0.8040\n",
            "Epoch 33/50\n",
            "625/625 [==============================] - 8s 12ms/step - loss: 0.1066 - accuracy: 0.9553 - val_loss: 1.1830 - val_accuracy: 0.8049\n",
            "Epoch 34/50\n",
            "625/625 [==============================] - 8s 13ms/step - loss: 0.1036 - accuracy: 0.9566 - val_loss: 1.2904 - val_accuracy: 0.8000\n",
            "Epoch 35/50\n",
            "625/625 [==============================] - 8s 13ms/step - loss: 0.0973 - accuracy: 0.9576 - val_loss: 1.2497 - val_accuracy: 0.8018\n",
            "Epoch 36/50\n",
            "625/625 [==============================] - 8s 13ms/step - loss: 0.0948 - accuracy: 0.9602 - val_loss: 1.2795 - val_accuracy: 0.8015\n",
            "Epoch 37/50\n",
            "625/625 [==============================] - 8s 13ms/step - loss: 0.0977 - accuracy: 0.9585 - val_loss: 1.2915 - val_accuracy: 0.7967\n",
            "Epoch 38/50\n",
            "625/625 [==============================] - 8s 13ms/step - loss: 0.0873 - accuracy: 0.9614 - val_loss: 1.4322 - val_accuracy: 0.7988\n",
            "Epoch 39/50\n",
            "625/625 [==============================] - 8s 12ms/step - loss: 0.0887 - accuracy: 0.9609 - val_loss: 1.4313 - val_accuracy: 0.8004\n",
            "Epoch 40/50\n",
            "625/625 [==============================] - 8s 12ms/step - loss: 0.0910 - accuracy: 0.9620 - val_loss: 1.3633 - val_accuracy: 0.8016\n",
            "Epoch 41/50\n",
            "625/625 [==============================] - 8s 12ms/step - loss: 0.0809 - accuracy: 0.9638 - val_loss: 1.5235 - val_accuracy: 0.7956\n",
            "Epoch 42/50\n",
            "625/625 [==============================] - 8s 12ms/step - loss: 0.0784 - accuracy: 0.9653 - val_loss: 1.5842 - val_accuracy: 0.8007\n",
            "Epoch 43/50\n",
            "625/625 [==============================] - 8s 12ms/step - loss: 0.0771 - accuracy: 0.9650 - val_loss: 1.6683 - val_accuracy: 0.8010\n",
            "Epoch 44/50\n",
            "625/625 [==============================] - 8s 12ms/step - loss: 0.0769 - accuracy: 0.9661 - val_loss: 1.6480 - val_accuracy: 0.8024\n",
            "Epoch 45/50\n",
            "625/625 [==============================] - 8s 13ms/step - loss: 0.0696 - accuracy: 0.9682 - val_loss: 1.7126 - val_accuracy: 0.7992\n",
            "Epoch 46/50\n",
            "625/625 [==============================] - 8s 13ms/step - loss: 0.0740 - accuracy: 0.9668 - val_loss: 1.7034 - val_accuracy: 0.8001\n",
            "Epoch 47/50\n",
            "625/625 [==============================] - 8s 13ms/step - loss: 0.0718 - accuracy: 0.9675 - val_loss: 1.7318 - val_accuracy: 0.7980\n",
            "Epoch 48/50\n",
            "625/625 [==============================] - 8s 12ms/step - loss: 0.0690 - accuracy: 0.9685 - val_loss: 1.7223 - val_accuracy: 0.7997\n",
            "Epoch 49/50\n",
            "625/625 [==============================] - 8s 12ms/step - loss: 0.0655 - accuracy: 0.9697 - val_loss: 1.8310 - val_accuracy: 0.7991\n",
            "Epoch 50/50\n",
            "625/625 [==============================] - 8s 13ms/step - loss: 0.0664 - accuracy: 0.9683 - val_loss: 1.8676 - val_accuracy: 0.7970\n"
          ],
          "name": "stdout"
        }
      ]
    },
    {
      "cell_type": "code",
      "metadata": {
        "colab_type": "code",
        "id": "g9DC6dmLF8DC",
        "colab": {
          "base_uri": "https://localhost:8080/",
          "height": 541
        },
        "outputId": "93a3930c-6766-41ca-aca1-cfd407173c30"
      },
      "source": [
        "import matplotlib.pyplot as plt\n",
        "\n",
        "\n",
        "def plot_graphs(history, string):\n",
        "  plt.plot(history.history[string])\n",
        "  plt.plot(history.history['val_'+string])\n",
        "  plt.xlabel(\"Epochs\")\n",
        "  plt.ylabel(string)\n",
        "  plt.legend([string, 'val_'+string])\n",
        "  plt.show()\n",
        "\n",
        "plot_graphs(history, 'accuracy')\n",
        "plot_graphs(history, 'loss')"
      ],
      "execution_count": 2,
      "outputs": [
        {
          "output_type": "display_data",
          "data": {
            "image/png": "[encoded data removed]",
            "text/plain": [
              "<Figure size 432x288 with 1 Axes>"
            ]
          },
          "metadata": {
            "tags": [],
            "needs_background": "light"
          }
        },
        {
          "output_type": "display_data",
          "data": {
            "image/png": "[encoded data removed]",
            "text/plain": [
              "<Figure size 432x288 with 1 Axes>"
            ]
          },
          "metadata": {
            "tags": [],
            "needs_background": "light"
          }
        }
      ]
    },
    {
      "cell_type": "code",
      "metadata": {
        "colab_type": "code",
        "id": "7ZEZIUppGhdi",
        "colab": {}
      },
      "source": [
        "model.save(\"test.h5\")"
      ],
      "execution_count": 3,
      "outputs": []
    }
  ]
}