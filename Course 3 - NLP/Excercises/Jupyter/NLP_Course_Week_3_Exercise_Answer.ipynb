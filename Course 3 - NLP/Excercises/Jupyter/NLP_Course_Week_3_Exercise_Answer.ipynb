{
  "nbformat": 4,
  "nbformat_minor": 0,
  "metadata": {
    "accelerator": "GPU",
    "colab": {
      "name": "NLP Course - Week 3 Exercise Answer.ipynb",
      "provenance": [],
      "toc_visible": true
    },
    "kernelspec": {
      "display_name": "Python 3",
      "language": "python",
      "name": "python3"
    },
    "language_info": {
      "codemirror_mode": {
        "name": "ipython",
        "version": 3
      },
      "file_extension": ".py",
      "mimetype": "text/x-python",
      "name": "python",
      "nbconvert_exporter": "python",
      "pygments_lexer": "ipython3",
      "version": "3.7.6"
    }
  },
  "cells": [
    {
      "cell_type": "code",
      "metadata": {
        "colab_type": "code",
        "id": "zX4Kg8DUTKWO",
        "colab": {}
      },
      "source": [
        "#@title Licensed under the Apache License, Version 2.0 (the \"License\");\n",
        "# you may not use this file except in compliance with the License.\n",
        "# You may obtain a copy of the License at\n",
        "#\n",
        "# https://www.apache.org/licenses/LICENSE-2.0\n",
        "#\n",
        "# Unless required by applicable law or agreed to in writing, software\n",
        "# distributed under the License is distributed on an \"AS IS\" BASIS,\n",
        "# WITHOUT WARRANTIES OR CONDITIONS OF ANY KIND, either express or implied.\n",
        "# See the License for the specific language governing permissions and\n",
        "# limitations under the License."
      ],
      "execution_count": null,
      "outputs": []
    },
    {
      "cell_type": "markdown",
      "metadata": {
        "id": "vCbkGBKf6jgu",
        "colab_type": "text"
      },
      "source": [
        "<a href=\"https://colab.research.google.com/github/lmoroney/dlaicourse/blob/master/TensorFlow%20In%20Practice/Course%203%20-%20NLP/NLP%20Course%20-%20Week%203%20Exercise%20Answer.ipynb\" target=\"_parent\"><img src=\"https://colab.research.google.com/assets/colab-badge.svg\" alt=\"Open In Colab\"/></a>"
      ]
    },
    {
      "cell_type": "code",
      "metadata": {
        "colab_type": "code",
        "id": "hmA6EzkQJ5jt",
        "colab": {}
      },
      "source": [
        "import json\n",
        "import tensorflow as tf\n",
        "import csv\n",
        "import random\n",
        "import numpy as np\n",
        "\n",
        "from tensorflow.keras.preprocessing.text import Tokenizer\n",
        "from tensorflow.keras.preprocessing.sequence import pad_sequences\n",
        "from tensorflow.keras.utils import to_categorical\n",
        "from tensorflow.keras import regularizers\n",
        "\n",
        "\n",
        "embedding_dim = 100\n",
        "max_length = 16\n",
        "trunc_type='post'\n",
        "padding_type='post'\n",
        "oov_tok = \"<OOV>\"\n",
        "training_size=160000\n",
        "test_portion=.1\n",
        "\n",
        "corpus = []\n"
      ],
      "execution_count": 1,
      "outputs": []
    },
    {
      "cell_type": "code",
      "metadata": {
        "colab_type": "code",
        "id": "bM0l_dORKqE0",
        "colab": {
          "base_uri": "https://localhost:8080/",
          "height": 204
        },
        "outputId": "63770f53-331d-4562-cde5-e063a586c474"
      },
      "source": [
        "# Note that I cleaned the Stanford dataset to remove LATIN1 encoding to make it easier for Python CSV reader\n",
        "# You can do that yourself with:\n",
        "# iconv -f LATIN1 -t UTF8 training.1600000.processed.noemoticon.csv -o training_cleaned.csv\n",
        "# I then hosted it on my site to make it easier to use in this notebook\n",
        "\n",
        "!wget --no-check-certificate \\\n",
        "    https://storage.googleapis.com/laurencemoroney-blog.appspot.com/training_cleaned.csv \\\n",
        "    -O /tmp/training_cleaned.csv\n",
        "\n",
        "num_sentences = 0\n",
        "\n",
        "with open(\"/tmp/training_cleaned.csv\") as csvfile:\n",
        "    reader = csv.reader(csvfile, delimiter=',')\n",
        "    for row in reader:\n",
        "        list_item=[]\n",
        "        list_item.append(row[5])\n",
        "        this_label=row[0]\n",
        "        if this_label=='0':\n",
        "            list_item.append(0)\n",
        "        else:\n",
        "            list_item.append(1)\n",
        "        num_sentences = num_sentences + 1\n",
        "        corpus.append(list_item)\n"
      ],
      "execution_count": 2,
      "outputs": [
        {
          "output_type": "stream",
          "text": [
            "--2020-09-01 02:22:23--  https://storage.googleapis.com/laurencemoroney-blog.appspot.com/training_cleaned.csv\n",
            "Resolving storage.googleapis.com (storage.googleapis.com)... 74.125.195.128, 74.125.20.128, 74.125.142.128, ...\n",
            "Connecting to storage.googleapis.com (storage.googleapis.com)|74.125.195.128|:443... connected.\n",
            "HTTP request sent, awaiting response... 200 OK\n",
            "Length: 238942690 (228M) [application/octet-stream]\n",
            "Saving to: ‘/tmp/training_cleaned.csv’\n",
            "\n",
            "/tmp/training_clean 100%[===================>] 227.87M   154MB/s    in 1.5s    \n",
            "\n",
            "2020-09-01 02:22:24 (154 MB/s) - ‘/tmp/training_cleaned.csv’ saved [238942690/238942690]\n",
            "\n"
          ],
          "name": "stdout"
        }
      ]
    },
    {
      "cell_type": "code",
      "metadata": {
        "colab_type": "code",
        "id": "3kxblBUjEUX-",
        "colab": {
          "base_uri": "https://localhost:8080/",
          "height": 68
        },
        "outputId": "7f040cee-a8e5-439d-8fbc-13a703d161e3"
      },
      "source": [
        "print(num_sentences)\n",
        "print(len(corpus))\n",
        "print(corpus[1])\n",
        "\n",
        "# Expected Output:\n",
        "# 1600000\n",
        "# 1600000\n",
        "# [\"is upset that he can't update his Facebook by texting it... and might cry as a result  School today also. Blah!\", 0]"
      ],
      "execution_count": 3,
      "outputs": [
        {
          "output_type": "stream",
          "text": [
            "1600000\n",
            "1600000\n",
            "[\"is upset that he can't update his Facebook by texting it... and might cry as a result  School today also. Blah!\", 0]\n"
          ],
          "name": "stdout"
        }
      ]
    },
    {
      "cell_type": "code",
      "metadata": {
        "colab_type": "code",
        "id": "ohOGz24lsNAD",
        "colab": {}
      },
      "source": [
        "sentences=[]\n",
        "labels=[]\n",
        "random.shuffle(corpus)\n",
        "for x in range(training_size):\n",
        "    sentences.append(corpus[x][0])\n",
        "    labels.append(corpus[x][1])\n",
        "\n",
        "\n",
        "tokenizer = Tokenizer()\n",
        "tokenizer.fit_on_texts(sentences)\n",
        "\n",
        "word_index = tokenizer.word_index\n",
        "vocab_size=len(word_index)\n",
        "\n",
        "sequences = tokenizer.texts_to_sequences(sentences)\n",
        "padded = pad_sequences(sequences, maxlen=max_length, padding=padding_type, truncating=trunc_type)\n",
        "\n",
        "split = int(test_portion * training_size)\n",
        "\n",
        "test_sequences = padded[0:split]\n",
        "training_sequences = padded[split:training_size]\n",
        "test_labels = labels[0:split]\n",
        "training_labels = labels[split:training_size]"
      ],
      "execution_count": 4,
      "outputs": []
    },
    {
      "cell_type": "code",
      "metadata": {
        "colab_type": "code",
        "id": "gIrtRem1En3N",
        "colab": {
          "base_uri": "https://localhost:8080/",
          "height": 51
        },
        "outputId": "3265d58a-4fa5-4052-84d7-aa797f1a59ee"
      },
      "source": [
        "print(vocab_size)\n",
        "print(word_index['i'])\n",
        "# Expected Output\n",
        "# 138858\n",
        "# 1"
      ],
      "execution_count": 5,
      "outputs": [
        {
          "output_type": "stream",
          "text": [
            "138579\n",
            "1\n"
          ],
          "name": "stdout"
        }
      ]
    },
    {
      "cell_type": "code",
      "metadata": {
        "colab_type": "code",
        "id": "C1zdgJkusRh0",
        "colab": {
          "base_uri": "https://localhost:8080/",
          "height": 204
        },
        "outputId": "152a2a34-67e9-479a-d188-2b758ebc5a24"
      },
      "source": [
        "# Note this is the 100 dimension version of GloVe from Stanford\n",
        "# I unzipped and hosted it on my site to make this notebook easier\n",
        "!wget --no-check-certificate \\\n",
        "    https://storage.googleapis.com/laurencemoroney-blog.appspot.com/glove.6B.100d.txt \\\n",
        "    -O /tmp/glove.6B.100d.txt\n",
        "embeddings_index = {};\n",
        "with open('/tmp/glove.6B.100d.txt') as f:\n",
        "    for line in f:\n",
        "        values = line.split();\n",
        "        word = values[0];\n",
        "        coefs = np.asarray(values[1:], dtype='float32');\n",
        "        embeddings_index[word] = coefs;\n",
        "\n",
        "embeddings_matrix = np.zeros((vocab_size+1, embedding_dim));\n",
        "for word, i in word_index.items():\n",
        "    embedding_vector = embeddings_index.get(word);\n",
        "    if embedding_vector is not None:\n",
        "        embeddings_matrix[i] = embedding_vector;"
      ],
      "execution_count": 6,
      "outputs": [
        {
          "output_type": "stream",
          "text": [
            "--2020-09-01 02:22:45--  https://storage.googleapis.com/laurencemoroney-blog.appspot.com/glove.6B.100d.txt\n",
            "Resolving storage.googleapis.com (storage.googleapis.com)... 74.125.20.128, 74.125.28.128, 74.125.142.128, ...\n",
            "Connecting to storage.googleapis.com (storage.googleapis.com)|74.125.20.128|:443... connected.\n",
            "HTTP request sent, awaiting response... 200 OK\n",
            "Length: 347116733 (331M) [text/plain]\n",
            "Saving to: ‘/tmp/glove.6B.100d.txt’\n",
            "\n",
            "/tmp/glove.6B.100d. 100%[===================>] 331.04M   102MB/s    in 3.2s    \n",
            "\n",
            "2020-09-01 02:22:48 (102 MB/s) - ‘/tmp/glove.6B.100d.txt’ saved [347116733/347116733]\n",
            "\n"
          ],
          "name": "stdout"
        }
      ]
    },
    {
      "cell_type": "code",
      "metadata": {
        "colab_type": "code",
        "id": "71NLk_lpFLNt",
        "colab": {
          "base_uri": "https://localhost:8080/",
          "height": 34
        },
        "outputId": "a94d63fa-a157-4063-c18d-ddb6e62e2a9c"
      },
      "source": [
        "print(len(embeddings_matrix))\n",
        "# Expected Output\n",
        "# 138859"
      ],
      "execution_count": 7,
      "outputs": [
        {
          "output_type": "stream",
          "text": [
            "138580\n"
          ],
          "name": "stdout"
        }
      ]
    },
    {
      "cell_type": "code",
      "metadata": {
        "colab_type": "code",
        "id": "iKKvbuEBOGFz",
        "colab": {
          "base_uri": "https://localhost:8080/",
          "height": 1000
        },
        "outputId": "041a9902-2c53-4770-8631-78440966d6fd"
      },
      "source": [
        "model = tf.keras.Sequential([\n",
        "    tf.keras.layers.Embedding(vocab_size+1, embedding_dim, input_length=max_length, weights=[embeddings_matrix], trainable=False),\n",
        "    tf.keras.layers.Dropout(0.2),\n",
        "    tf.keras.layers.Conv1D(64, 5, activation='relu'),\n",
        "    tf.keras.layers.MaxPooling1D(pool_size=4),\n",
        "    tf.keras.layers.LSTM(64),\n",
        "    tf.keras.layers.Dense(1, activation='sigmoid')\n",
        "])\n",
        "model.compile(loss='binary_crossentropy',optimizer='adam',metrics=['accuracy'])\n",
        "model.summary()\n",
        "\n",
        "num_epochs = 50\n",
        "\n",
        "training_padded = np.array(training_sequences)\n",
        "training_labels = np.array(training_labels)\n",
        "testing_padded = np.array(test_sequences)\n",
        "testing_labels = np.array(test_labels)\n",
        "\n",
        "history = model.fit(training_padded, training_labels, epochs=num_epochs, validation_data=(testing_padded, testing_labels), verbose=2)\n",
        "\n",
        "print(\"Training Complete\")"
      ],
      "execution_count": 8,
      "outputs": [
        {
          "output_type": "stream",
          "text": [
            "Model: \"sequential\"\n",
            "_________________________________________________________________\n",
            "Layer (type)                 Output Shape              Param #   \n",
            "=================================================================\n",
            "embedding (Embedding)        (None, 16, 100)           13858000  \n",
            "_________________________________________________________________\n",
            "dropout (Dropout)            (None, 16, 100)           0         \n",
            "_________________________________________________________________\n",
            "conv1d (Conv1D)              (None, 12, 64)            32064     \n",
            "_________________________________________________________________\n",
            "max_pooling1d (MaxPooling1D) (None, 3, 64)             0         \n",
            "_________________________________________________________________\n",
            "lstm (LSTM)                  (None, 64)                33024     \n",
            "_________________________________________________________________\n",
            "dense (Dense)                (None, 1)                 65        \n",
            "=================================================================\n",
            "Total params: 13,923,153\n",
            "Trainable params: 65,153\n",
            "Non-trainable params: 13,858,000\n",
            "_________________________________________________________________\n",
            "Epoch 1/50\n",
            "4500/4500 - 15s - loss: 0.5647 - accuracy: 0.7018 - val_loss: 0.5227 - val_accuracy: 0.7361\n",
            "Epoch 2/50\n",
            "4500/4500 - 15s - loss: 0.5264 - accuracy: 0.7342 - val_loss: 0.5066 - val_accuracy: 0.7473\n",
            "Epoch 3/50\n",
            "4500/4500 - 15s - loss: 0.5103 - accuracy: 0.7444 - val_loss: 0.4984 - val_accuracy: 0.7556\n",
            "Epoch 4/50\n",
            "4500/4500 - 15s - loss: 0.4981 - accuracy: 0.7515 - val_loss: 0.5028 - val_accuracy: 0.7534\n",
            "Epoch 5/50\n",
            "4500/4500 - 15s - loss: 0.4896 - accuracy: 0.7586 - val_loss: 0.4984 - val_accuracy: 0.7533\n",
            "Epoch 6/50\n",
            "4500/4500 - 15s - loss: 0.4826 - accuracy: 0.7642 - val_loss: 0.4923 - val_accuracy: 0.7580\n",
            "Epoch 7/50\n",
            "4500/4500 - 15s - loss: 0.4772 - accuracy: 0.7670 - val_loss: 0.4875 - val_accuracy: 0.7630\n",
            "Epoch 8/50\n",
            "4500/4500 - 15s - loss: 0.4727 - accuracy: 0.7691 - val_loss: 0.4965 - val_accuracy: 0.7558\n",
            "Epoch 9/50\n",
            "4500/4500 - 15s - loss: 0.4673 - accuracy: 0.7738 - val_loss: 0.4919 - val_accuracy: 0.7611\n",
            "Epoch 10/50\n",
            "4500/4500 - 14s - loss: 0.4632 - accuracy: 0.7746 - val_loss: 0.4908 - val_accuracy: 0.7600\n",
            "Epoch 11/50\n",
            "4500/4500 - 14s - loss: 0.4607 - accuracy: 0.7770 - val_loss: 0.4894 - val_accuracy: 0.7624\n",
            "Epoch 12/50\n",
            "4500/4500 - 14s - loss: 0.4580 - accuracy: 0.7784 - val_loss: 0.4924 - val_accuracy: 0.7614\n",
            "Epoch 13/50\n",
            "4500/4500 - 14s - loss: 0.4540 - accuracy: 0.7805 - val_loss: 0.4927 - val_accuracy: 0.7591\n",
            "Epoch 14/50\n",
            "4500/4500 - 16s - loss: 0.4518 - accuracy: 0.7822 - val_loss: 0.4945 - val_accuracy: 0.7639\n",
            "Epoch 15/50\n",
            "4500/4500 - 14s - loss: 0.4500 - accuracy: 0.7831 - val_loss: 0.5036 - val_accuracy: 0.7594\n",
            "Epoch 16/50\n",
            "4500/4500 - 14s - loss: 0.4492 - accuracy: 0.7844 - val_loss: 0.4950 - val_accuracy: 0.7620\n",
            "Epoch 17/50\n",
            "4500/4500 - 14s - loss: 0.4469 - accuracy: 0.7861 - val_loss: 0.4953 - val_accuracy: 0.7590\n",
            "Epoch 18/50\n",
            "4500/4500 - 14s - loss: 0.4454 - accuracy: 0.7858 - val_loss: 0.4963 - val_accuracy: 0.7606\n",
            "Epoch 19/50\n",
            "4500/4500 - 14s - loss: 0.4450 - accuracy: 0.7859 - val_loss: 0.4994 - val_accuracy: 0.7642\n",
            "Epoch 20/50\n",
            "4500/4500 - 15s - loss: 0.4419 - accuracy: 0.7898 - val_loss: 0.4960 - val_accuracy: 0.7613\n",
            "Epoch 21/50\n",
            "4500/4500 - 14s - loss: 0.4423 - accuracy: 0.7879 - val_loss: 0.5029 - val_accuracy: 0.7624\n",
            "Epoch 22/50\n",
            "4500/4500 - 14s - loss: 0.4388 - accuracy: 0.7894 - val_loss: 0.4992 - val_accuracy: 0.7604\n",
            "Epoch 23/50\n",
            "4500/4500 - 15s - loss: 0.4387 - accuracy: 0.7902 - val_loss: 0.4951 - val_accuracy: 0.7636\n",
            "Epoch 24/50\n",
            "4500/4500 - 14s - loss: 0.4375 - accuracy: 0.7917 - val_loss: 0.4981 - val_accuracy: 0.7576\n",
            "Epoch 25/50\n",
            "4500/4500 - 15s - loss: 0.4369 - accuracy: 0.7922 - val_loss: 0.5023 - val_accuracy: 0.7601\n",
            "Epoch 26/50\n",
            "4500/4500 - 14s - loss: 0.4367 - accuracy: 0.7913 - val_loss: 0.4996 - val_accuracy: 0.7614\n",
            "Epoch 27/50\n",
            "4500/4500 - 14s - loss: 0.4346 - accuracy: 0.7918 - val_loss: 0.5010 - val_accuracy: 0.7595\n",
            "Epoch 28/50\n",
            "4500/4500 - 14s - loss: 0.4339 - accuracy: 0.7936 - val_loss: 0.5028 - val_accuracy: 0.7609\n",
            "Epoch 29/50\n",
            "4500/4500 - 14s - loss: 0.4332 - accuracy: 0.7930 - val_loss: 0.5033 - val_accuracy: 0.7604\n",
            "Epoch 30/50\n",
            "4500/4500 - 14s - loss: 0.4336 - accuracy: 0.7925 - val_loss: 0.5059 - val_accuracy: 0.7618\n",
            "Epoch 31/50\n",
            "4500/4500 - 14s - loss: 0.4317 - accuracy: 0.7952 - val_loss: 0.5027 - val_accuracy: 0.7621\n",
            "Epoch 32/50\n",
            "4500/4500 - 14s - loss: 0.4326 - accuracy: 0.7924 - val_loss: 0.5051 - val_accuracy: 0.7601\n",
            "Epoch 33/50\n",
            "4500/4500 - 14s - loss: 0.4314 - accuracy: 0.7944 - val_loss: 0.4992 - val_accuracy: 0.7610\n",
            "Epoch 34/50\n",
            "4500/4500 - 14s - loss: 0.4305 - accuracy: 0.7945 - val_loss: 0.5029 - val_accuracy: 0.7621\n",
            "Epoch 35/50\n",
            "4500/4500 - 15s - loss: 0.4322 - accuracy: 0.7944 - val_loss: 0.5053 - val_accuracy: 0.7604\n",
            "Epoch 36/50\n",
            "4500/4500 - 15s - loss: 0.4308 - accuracy: 0.7950 - val_loss: 0.5023 - val_accuracy: 0.7604\n",
            "Epoch 37/50\n",
            "4500/4500 - 14s - loss: 0.4288 - accuracy: 0.7950 - val_loss: 0.5031 - val_accuracy: 0.7584\n",
            "Epoch 38/50\n",
            "4500/4500 - 14s - loss: 0.4302 - accuracy: 0.7946 - val_loss: 0.5023 - val_accuracy: 0.7591\n",
            "Epoch 39/50\n",
            "4500/4500 - 14s - loss: 0.4292 - accuracy: 0.7949 - val_loss: 0.5054 - val_accuracy: 0.7582\n",
            "Epoch 40/50\n",
            "4500/4500 - 14s - loss: 0.4284 - accuracy: 0.7956 - val_loss: 0.5073 - val_accuracy: 0.7573\n",
            "Epoch 41/50\n",
            "4500/4500 - 14s - loss: 0.4281 - accuracy: 0.7958 - val_loss: 0.5107 - val_accuracy: 0.7551\n",
            "Epoch 42/50\n",
            "4500/4500 - 14s - loss: 0.4290 - accuracy: 0.7958 - val_loss: 0.5069 - val_accuracy: 0.7617\n",
            "Epoch 43/50\n",
            "4500/4500 - 14s - loss: 0.4265 - accuracy: 0.7975 - val_loss: 0.5094 - val_accuracy: 0.7574\n",
            "Epoch 44/50\n",
            "4500/4500 - 14s - loss: 0.4279 - accuracy: 0.7967 - val_loss: 0.5087 - val_accuracy: 0.7584\n",
            "Epoch 45/50\n",
            "4500/4500 - 14s - loss: 0.4277 - accuracy: 0.7965 - val_loss: 0.5099 - val_accuracy: 0.7541\n",
            "Epoch 46/50\n",
            "4500/4500 - 14s - loss: 0.4269 - accuracy: 0.7971 - val_loss: 0.5085 - val_accuracy: 0.7566\n",
            "Epoch 47/50\n",
            "4500/4500 - 14s - loss: 0.4271 - accuracy: 0.7971 - val_loss: 0.5047 - val_accuracy: 0.7592\n",
            "Epoch 48/50\n",
            "4500/4500 - 14s - loss: 0.4262 - accuracy: 0.7978 - val_loss: 0.5075 - val_accuracy: 0.7577\n",
            "Epoch 49/50\n",
            "4500/4500 - 14s - loss: 0.4256 - accuracy: 0.7985 - val_loss: 0.5077 - val_accuracy: 0.7549\n",
            "Epoch 50/50\n",
            "4500/4500 - 14s - loss: 0.4267 - accuracy: 0.7973 - val_loss: 0.5038 - val_accuracy: 0.7554\n",
            "Training Complete\n"
          ],
          "name": "stdout"
        }
      ]
    },
    {
      "cell_type": "code",
      "metadata": {
        "colab_type": "code",
        "id": "qxju4ItJKO8F",
        "colab": {}
      },
      "source": [
        "import matplotlib.image  as mpimg\n",
        "import matplotlib.pyplot as plt\n",
        "\n",
        "#-----------------------------------------------------------\n",
        "# Retrieve a list of list results on training and test data\n",
        "# sets for each training epoch\n",
        "#-----------------------------------------------------------\n",
        "acc=history.history['accuracy']\n",
        "val_acc=history.history['val_accuracy']\n",
        "loss=history.history['loss']\n",
        "val_loss=history.history['val_loss']\n",
        "\n",
        "epochs=range(len(acc)) # Get number of epochs\n",
        "\n",
        "#------------------------------------------------\n",
        "# Plot training and validation accuracy per epoch\n",
        "#------------------------------------------------\n",
        "plt.plot(epochs, acc, 'r')\n",
        "plt.plot(epochs, val_acc, 'b')\n",
        "plt.title('Training and validation accuracy')\n",
        "plt.xlabel(\"Epochs\")\n",
        "plt.ylabel(\"Accuracy\")\n",
        "plt.legend([\"Accuracy\", \"Validation Accuracy\"])\n",
        "\n",
        "plt.figure()\n",
        "\n",
        "#------------------------------------------------\n",
        "# Plot training and validation loss per epoch\n",
        "#------------------------------------------------\n",
        "plt.plot(epochs, loss, 'r')\n",
        "plt.plot(epochs, val_loss, 'b')\n",
        "plt.title('Training and validation loss')\n",
        "plt.xlabel(\"Epochs\")\n",
        "plt.ylabel(\"Loss\")\n",
        "plt.legend([\"Loss\", \"Validation Loss\"])\n",
        "\n",
        "plt.figure()\n",
        "\n",
        "\n",
        "# Expected Output\n",
        "# A chart where the validation loss does not increase sharply!"
      ],
      "execution_count": null,
      "outputs": []
    }
  ]
}