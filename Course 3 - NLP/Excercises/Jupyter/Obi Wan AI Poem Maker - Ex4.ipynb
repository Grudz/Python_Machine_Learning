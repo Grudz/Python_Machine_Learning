{
  "nbformat": 4,
  "nbformat_minor": 0,
  "metadata": {
    "accelerator": "GPU",
    "colab": {
      "name": "NLP_Week4_Exercise_Shakespeare_Question.ipynb",
      "provenance": [],
      "toc_visible": true
    },
    "kernelspec": {
      "display_name": "Python 3",
      "name": "python3"
    }
  },
  "cells": [
    {
      "cell_type": "code",
      "metadata": {
        "id": "zX4Kg8DUTKWO",
        "colab_type": "code",
        "colab": {}
      },
      "source": [
        "#@title Licensed under the Apache License, Version 2.0 (the \"License\");\n",
        "# you may not use this file except in compliance with the License.\n",
        "# You may obtain a copy of the License at\n",
        "#\n",
        "# https://www.apache.org/licenses/LICENSE-2.0\n",
        "#\n",
        "# Unless required by applicable law or agreed to in writing, software\n",
        "# distributed under the License is distributed on an \"AS IS\" BASIS,\n",
        "# WITHOUT WARRANTIES OR CONDITIONS OF ANY KIND, either express or implied.\n",
        "# See the License for the specific language governing permissions and\n",
        "# limitations under the License."
      ],
      "execution_count": null,
      "outputs": []
    },
    {
      "cell_type": "code",
      "metadata": {
        "colab_type": "code",
        "id": "BOwsuGQQY9OL",
        "colab": {}
      },
      "source": [
        "from tensorflow.keras.preprocessing.sequence import pad_sequences\n",
        "from tensorflow.keras.layers import Embedding, LSTM, Dense, Dropout, Bidirectional\n",
        "from tensorflow.keras.preprocessing.text import Tokenizer\n",
        "from tensorflow.keras.models import Sequential\n",
        "from tensorflow.keras.optimizers import Adam\n",
        "### YOUR CODE HERE\n",
        "# Figure out how to import regularizers\n",
        "from tensorflow.keras import regularizers\n",
        "###\n",
        "import tensorflow.keras.utils as ku \n",
        "import numpy as np "
      ],
      "execution_count": 17,
      "outputs": []
    },
    {
      "cell_type": "code",
      "metadata": {
        "colab_type": "code",
        "id": "PRnDnCW-Z7qv",
        "colab": {
          "base_uri": "https://localhost:8080/",
          "height": 204
        },
        "outputId": "f8437546-d756-4222-a357-a339accd31ad"
      },
      "source": [
        "tokenizer = Tokenizer()\n",
        "!wget --no-check-certificate \\\n",
        "    https://storage.googleapis.com/laurencemoroney-blog.appspot.com/sonnets.txt \\\n",
        "    -O /tmp/sonnets.txt\n",
        "data = open('/tmp/sonnets.txt').read()\n",
        "\n",
        "corpus = data.lower().split(\"\\n\")\n",
        "\n",
        "\n",
        "tokenizer.fit_on_texts(corpus)\n",
        "total_words = len(tokenizer.word_index) + 1\n",
        "\n",
        "# create input sequences using list of tokens\n",
        "input_sequences = []\n",
        "for line in corpus:\n",
        "\ttoken_list = tokenizer.texts_to_sequences([line])[0]\n",
        "\tfor i in range(1, len(token_list)):\n",
        "\t\tn_gram_sequence = token_list[:i+1]\n",
        "\t\tinput_sequences.append(n_gram_sequence)\n",
        "\n",
        "\n",
        "# pad sequences \n",
        "max_sequence_len = max([len(x) for x in input_sequences])\n",
        "input_sequences = np.array(pad_sequences(input_sequences, maxlen=max_sequence_len, padding='pre'))\n",
        "\n",
        "# create predictors and label\n",
        "predictors, label = input_sequences[:,:-1],input_sequences[:,-1]\n",
        "\n",
        "label = ku.to_categorical(label, num_classes=total_words)"
      ],
      "execution_count": 5,
      "outputs": [
        {
          "output_type": "stream",
          "text": [
            "--2020-09-01 06:32:05--  https://storage.googleapis.com/laurencemoroney-blog.appspot.com/sonnets.txt\n",
            "Resolving storage.googleapis.com (storage.googleapis.com)... 173.194.79.128, 108.177.119.128, 108.177.126.128, ...\n",
            "Connecting to storage.googleapis.com (storage.googleapis.com)|173.194.79.128|:443... connected.\n",
            "HTTP request sent, awaiting response... 200 OK\n",
            "Length: 93578 (91K) [text/plain]\n",
            "Saving to: ‘/tmp/sonnets.txt’\n",
            "\n",
            "/tmp/sonnets.txt    100%[===================>]  91.38K  --.-KB/s    in 0.001s  \n",
            "\n",
            "2020-09-01 06:32:05 (128 MB/s) - ‘/tmp/sonnets.txt’ saved [93578/93578]\n",
            "\n"
          ],
          "name": "stdout"
        }
      ]
    },
    {
      "cell_type": "code",
      "metadata": {
        "colab_type": "code",
        "id": "w9vH8Y59ajYL",
        "colab": {
          "base_uri": "https://localhost:8080/",
          "height": 374
        },
        "outputId": "56057de9-a6d7-497f-9617-1d0211bc2099"
      },
      "source": [
        "model = Sequential()\n",
        "model.add(Embedding(total_words, 100, input_length=max_sequence_len-1)) # Dims here can change\n",
        "model.add(Bidirectional(LSTM(150, return_sequences=True))) # Dims here can change\n",
        "model.add(Dropout(0.3))\n",
        "model.add(Bidirectional(LSTM(50)))\n",
        "model.add(Dense(total_words/2, activation='relu', kernel_regularizer=regularizers.l2(0.01))) # L2 is regularization penalty\n",
        "model.add(Dense(total_words, activation='softmax'))\n",
        "\n",
        "adam = Adam(lr=0.01)\n",
        "\n",
        "model.compile(loss = 'categorical_crossentropy', optimizer =adam, metrics = 'accuracy')\n",
        "print(model.summary())\n"
      ],
      "execution_count": 25,
      "outputs": [
        {
          "output_type": "stream",
          "text": [
            "Model: \"sequential_9\"\n",
            "_________________________________________________________________\n",
            "Layer (type)                 Output Shape              Param #   \n",
            "=================================================================\n",
            "embedding_9 (Embedding)      (None, 10, 100)           321100    \n",
            "_________________________________________________________________\n",
            "bidirectional_17 (Bidirectio (None, 10, 300)           301200    \n",
            "_________________________________________________________________\n",
            "dropout_9 (Dropout)          (None, 10, 300)           0         \n",
            "_________________________________________________________________\n",
            "bidirectional_18 (Bidirectio (None, 100)               140400    \n",
            "_________________________________________________________________\n",
            "dense_8 (Dense)              (None, 1605)              162105    \n",
            "_________________________________________________________________\n",
            "dense_9 (Dense)              (None, 3211)              5156866   \n",
            "=================================================================\n",
            "Total params: 6,081,671\n",
            "Trainable params: 6,081,671\n",
            "Non-trainable params: 0\n",
            "_________________________________________________________________\n",
            "None\n"
          ],
          "name": "stdout"
        }
      ]
    },
    {
      "cell_type": "code",
      "metadata": {
        "colab_type": "code",
        "id": "AIg2f1HBxqof",
        "colab": {
          "base_uri": "https://localhost:8080/",
          "height": 1000
        },
        "outputId": "73baf55a-fbc0-4b50-8611-4bafae405289"
      },
      "source": [
        " history = model.fit(predictors, label, epochs=100, verbose=1)"
      ],
      "execution_count": 26,
      "outputs": [
        {
          "output_type": "stream",
          "text": [
            "Epoch 1/100\n",
            "484/484 [==============================] - 7s 14ms/step - loss: 6.8909 - accuracy: 0.0230\n",
            "Epoch 2/100\n",
            "484/484 [==============================] - 7s 15ms/step - loss: 6.5071 - accuracy: 0.0224\n",
            "Epoch 3/100\n",
            "484/484 [==============================] - 7s 15ms/step - loss: 6.4107 - accuracy: 0.0284\n",
            "Epoch 4/100\n",
            "484/484 [==============================] - 7s 14ms/step - loss: 6.3550 - accuracy: 0.0272\n",
            "Epoch 5/100\n",
            "484/484 [==============================] - 7s 14ms/step - loss: 6.3074 - accuracy: 0.0307\n",
            "Epoch 6/100\n",
            "484/484 [==============================] - 7s 14ms/step - loss: 6.2563 - accuracy: 0.0354\n",
            "Epoch 7/100\n",
            "484/484 [==============================] - 7s 14ms/step - loss: 6.2089 - accuracy: 0.0362\n",
            "Epoch 8/100\n",
            "484/484 [==============================] - 7s 14ms/step - loss: 6.1722 - accuracy: 0.0396\n",
            "Epoch 9/100\n",
            "484/484 [==============================] - 7s 14ms/step - loss: 6.1258 - accuracy: 0.0403\n",
            "Epoch 10/100\n",
            "484/484 [==============================] - 7s 14ms/step - loss: 6.0908 - accuracy: 0.0427\n",
            "Epoch 11/100\n",
            "484/484 [==============================] - 7s 14ms/step - loss: 6.0572 - accuracy: 0.0427\n",
            "Epoch 12/100\n",
            "484/484 [==============================] - 7s 14ms/step - loss: 6.0440 - accuracy: 0.0446\n",
            "Epoch 13/100\n",
            "484/484 [==============================] - 7s 14ms/step - loss: 6.0093 - accuracy: 0.0453\n",
            "Epoch 14/100\n",
            "484/484 [==============================] - 7s 14ms/step - loss: 5.9812 - accuracy: 0.0471\n",
            "Epoch 15/100\n",
            "484/484 [==============================] - 7s 14ms/step - loss: 5.9485 - accuracy: 0.0503\n",
            "Epoch 16/100\n",
            "484/484 [==============================] - 7s 14ms/step - loss: 5.9381 - accuracy: 0.0506\n",
            "Epoch 17/100\n",
            "484/484 [==============================] - 7s 14ms/step - loss: 5.9117 - accuracy: 0.0514\n",
            "Epoch 18/100\n",
            "484/484 [==============================] - 7s 14ms/step - loss: 5.8857 - accuracy: 0.0514\n",
            "Epoch 19/100\n",
            "484/484 [==============================] - 7s 14ms/step - loss: 5.8588 - accuracy: 0.0532\n",
            "Epoch 20/100\n",
            "484/484 [==============================] - 7s 14ms/step - loss: 5.8382 - accuracy: 0.0539\n",
            "Epoch 21/100\n",
            "484/484 [==============================] - 7s 14ms/step - loss: 5.8069 - accuracy: 0.0551\n",
            "Epoch 22/100\n",
            "484/484 [==============================] - 7s 14ms/step - loss: 5.7974 - accuracy: 0.0559\n",
            "Epoch 23/100\n",
            "484/484 [==============================] - 7s 14ms/step - loss: 5.7805 - accuracy: 0.0558\n",
            "Epoch 24/100\n",
            "484/484 [==============================] - 7s 14ms/step - loss: 5.7617 - accuracy: 0.0544\n",
            "Epoch 25/100\n",
            "484/484 [==============================] - 7s 14ms/step - loss: 5.7445 - accuracy: 0.0576\n",
            "Epoch 26/100\n",
            "484/484 [==============================] - 7s 14ms/step - loss: 5.7275 - accuracy: 0.0552\n",
            "Epoch 27/100\n",
            "484/484 [==============================] - 7s 14ms/step - loss: 5.7205 - accuracy: 0.0565\n",
            "Epoch 28/100\n",
            "484/484 [==============================] - 7s 14ms/step - loss: 5.6978 - accuracy: 0.0570\n",
            "Epoch 29/100\n",
            "484/484 [==============================] - 7s 14ms/step - loss: 5.6795 - accuracy: 0.0570\n",
            "Epoch 30/100\n",
            "484/484 [==============================] - 7s 14ms/step - loss: 5.6640 - accuracy: 0.0605\n",
            "Epoch 31/100\n",
            "484/484 [==============================] - 7s 14ms/step - loss: 5.6460 - accuracy: 0.0574\n",
            "Epoch 32/100\n",
            "484/484 [==============================] - 7s 14ms/step - loss: 5.6355 - accuracy: 0.0604\n",
            "Epoch 33/100\n",
            "484/484 [==============================] - 7s 14ms/step - loss: 5.6256 - accuracy: 0.0579\n",
            "Epoch 34/100\n",
            "484/484 [==============================] - 7s 14ms/step - loss: 5.6172 - accuracy: 0.0591\n",
            "Epoch 35/100\n",
            "484/484 [==============================] - 7s 14ms/step - loss: 5.5972 - accuracy: 0.0622\n",
            "Epoch 36/100\n",
            "484/484 [==============================] - 7s 14ms/step - loss: 5.5965 - accuracy: 0.0587\n",
            "Epoch 37/100\n",
            "484/484 [==============================] - 7s 14ms/step - loss: 5.5866 - accuracy: 0.0609\n",
            "Epoch 38/100\n",
            "484/484 [==============================] - 7s 14ms/step - loss: 5.5828 - accuracy: 0.0605\n",
            "Epoch 39/100\n",
            "484/484 [==============================] - 7s 14ms/step - loss: 5.5727 - accuracy: 0.0620\n",
            "Epoch 40/100\n",
            "484/484 [==============================] - 7s 14ms/step - loss: 5.5777 - accuracy: 0.0609\n",
            "Epoch 41/100\n",
            "484/484 [==============================] - 7s 14ms/step - loss: 5.5905 - accuracy: 0.0587\n",
            "Epoch 42/100\n",
            "484/484 [==============================] - 7s 14ms/step - loss: 5.5647 - accuracy: 0.0609\n",
            "Epoch 43/100\n",
            "484/484 [==============================] - 7s 14ms/step - loss: 5.5735 - accuracy: 0.0596\n",
            "Epoch 44/100\n",
            "484/484 [==============================] - 7s 14ms/step - loss: 5.5626 - accuracy: 0.0618\n",
            "Epoch 45/100\n",
            "484/484 [==============================] - 7s 14ms/step - loss: 5.5622 - accuracy: 0.0596\n",
            "Epoch 46/100\n",
            "484/484 [==============================] - 7s 14ms/step - loss: 5.5573 - accuracy: 0.0578\n",
            "Epoch 47/100\n",
            "484/484 [==============================] - 7s 15ms/step - loss: 5.5537 - accuracy: 0.0593\n",
            "Epoch 48/100\n",
            "484/484 [==============================] - 7s 15ms/step - loss: 5.5609 - accuracy: 0.0585\n",
            "Epoch 49/100\n",
            "484/484 [==============================] - 7s 14ms/step - loss: 5.5449 - accuracy: 0.0612\n",
            "Epoch 50/100\n",
            "484/484 [==============================] - 7s 14ms/step - loss: 5.5459 - accuracy: 0.0588\n",
            "Epoch 51/100\n",
            "484/484 [==============================] - 7s 14ms/step - loss: 5.5415 - accuracy: 0.0598\n",
            "Epoch 52/100\n",
            "484/484 [==============================] - 7s 14ms/step - loss: 5.5242 - accuracy: 0.0621\n",
            "Epoch 53/100\n",
            "484/484 [==============================] - 7s 14ms/step - loss: 5.5127 - accuracy: 0.0634\n",
            "Epoch 54/100\n",
            "484/484 [==============================] - 7s 14ms/step - loss: 5.5211 - accuracy: 0.0638\n",
            "Epoch 55/100\n",
            "484/484 [==============================] - 7s 14ms/step - loss: 5.5096 - accuracy: 0.0633\n",
            "Epoch 56/100\n",
            "484/484 [==============================] - 7s 14ms/step - loss: 5.5058 - accuracy: 0.0625\n",
            "Epoch 57/100\n",
            "484/484 [==============================] - 7s 14ms/step - loss: 5.5129 - accuracy: 0.0640\n",
            "Epoch 58/100\n",
            "484/484 [==============================] - 7s 14ms/step - loss: 5.5242 - accuracy: 0.0641\n",
            "Epoch 59/100\n",
            "484/484 [==============================] - 7s 14ms/step - loss: 5.5018 - accuracy: 0.0634\n",
            "Epoch 60/100\n",
            "484/484 [==============================] - 7s 14ms/step - loss: 5.4915 - accuracy: 0.0623\n",
            "Epoch 61/100\n",
            "484/484 [==============================] - 7s 14ms/step - loss: 5.5067 - accuracy: 0.0632\n",
            "Epoch 62/100\n",
            "484/484 [==============================] - 7s 14ms/step - loss: 5.5100 - accuracy: 0.0643\n",
            "Epoch 63/100\n",
            "484/484 [==============================] - 7s 14ms/step - loss: 5.5010 - accuracy: 0.0653\n",
            "Epoch 64/100\n",
            "484/484 [==============================] - 7s 14ms/step - loss: 5.4991 - accuracy: 0.0678\n",
            "Epoch 65/100\n",
            "484/484 [==============================] - 7s 14ms/step - loss: 5.5064 - accuracy: 0.0646\n",
            "Epoch 66/100\n",
            "484/484 [==============================] - 7s 14ms/step - loss: 5.5006 - accuracy: 0.0661\n",
            "Epoch 67/100\n",
            "484/484 [==============================] - 7s 14ms/step - loss: 5.5008 - accuracy: 0.0636\n",
            "Epoch 68/100\n",
            "484/484 [==============================] - 7s 14ms/step - loss: 5.4852 - accuracy: 0.0640\n",
            "Epoch 69/100\n",
            "484/484 [==============================] - 7s 14ms/step - loss: 5.4897 - accuracy: 0.0636\n",
            "Epoch 70/100\n",
            "484/484 [==============================] - 7s 14ms/step - loss: 5.4794 - accuracy: 0.0651\n",
            "Epoch 71/100\n",
            "484/484 [==============================] - 7s 14ms/step - loss: 5.4713 - accuracy: 0.0625\n",
            "Epoch 72/100\n",
            "484/484 [==============================] - 7s 14ms/step - loss: 5.4814 - accuracy: 0.0623\n",
            "Epoch 73/100\n",
            "484/484 [==============================] - 7s 14ms/step - loss: 5.5056 - accuracy: 0.0637\n",
            "Epoch 74/100\n",
            "484/484 [==============================] - 7s 14ms/step - loss: 5.4882 - accuracy: 0.0626\n",
            "Epoch 75/100\n",
            "484/484 [==============================] - 7s 14ms/step - loss: 5.4806 - accuracy: 0.0662\n",
            "Epoch 76/100\n",
            "484/484 [==============================] - 7s 14ms/step - loss: 5.4754 - accuracy: 0.0648\n",
            "Epoch 77/100\n",
            "484/484 [==============================] - 7s 14ms/step - loss: 5.4810 - accuracy: 0.0660\n",
            "Epoch 78/100\n",
            "484/484 [==============================] - 7s 14ms/step - loss: 5.4724 - accuracy: 0.0633\n",
            "Epoch 79/100\n",
            "484/484 [==============================] - 7s 14ms/step - loss: 5.4794 - accuracy: 0.0623\n",
            "Epoch 80/100\n",
            "484/484 [==============================] - 7s 14ms/step - loss: 5.4750 - accuracy: 0.0644\n",
            "Epoch 81/100\n",
            "484/484 [==============================] - 7s 14ms/step - loss: 5.4799 - accuracy: 0.0638\n",
            "Epoch 82/100\n",
            "484/484 [==============================] - 7s 14ms/step - loss: 5.4710 - accuracy: 0.0638\n",
            "Epoch 83/100\n",
            "484/484 [==============================] - 7s 14ms/step - loss: 5.4762 - accuracy: 0.0638\n",
            "Epoch 84/100\n",
            "484/484 [==============================] - 7s 14ms/step - loss: 5.4809 - accuracy: 0.0644\n",
            "Epoch 85/100\n",
            "484/484 [==============================] - 7s 14ms/step - loss: 5.4604 - accuracy: 0.0625\n",
            "Epoch 86/100\n",
            "484/484 [==============================] - 7s 14ms/step - loss: 5.4663 - accuracy: 0.0650\n",
            "Epoch 87/100\n",
            "484/484 [==============================] - 7s 14ms/step - loss: 5.4736 - accuracy: 0.0638\n",
            "Epoch 88/100\n",
            "484/484 [==============================] - 7s 13ms/step - loss: 5.4678 - accuracy: 0.0642\n",
            "Epoch 89/100\n",
            "484/484 [==============================] - 7s 14ms/step - loss: 5.4831 - accuracy: 0.0662\n",
            "Epoch 90/100\n",
            "484/484 [==============================] - 7s 14ms/step - loss: 5.4775 - accuracy: 0.0648\n",
            "Epoch 91/100\n",
            "484/484 [==============================] - 7s 14ms/step - loss: 5.4613 - accuracy: 0.0634\n",
            "Epoch 92/100\n",
            "484/484 [==============================] - 7s 13ms/step - loss: 5.4765 - accuracy: 0.0638\n",
            "Epoch 93/100\n",
            "484/484 [==============================] - 7s 14ms/step - loss: 5.4882 - accuracy: 0.0623\n",
            "Epoch 94/100\n",
            "484/484 [==============================] - 7s 14ms/step - loss: 5.4821 - accuracy: 0.0659\n",
            "Epoch 95/100\n",
            "484/484 [==============================] - 6s 13ms/step - loss: 5.4758 - accuracy: 0.0637\n",
            "Epoch 96/100\n",
            "484/484 [==============================] - 6s 13ms/step - loss: 5.4778 - accuracy: 0.0655\n",
            "Epoch 97/100\n",
            "484/484 [==============================] - 6s 13ms/step - loss: 5.4825 - accuracy: 0.0631\n",
            "Epoch 98/100\n",
            "484/484 [==============================] - 6s 13ms/step - loss: 5.4761 - accuracy: 0.0644\n",
            "Epoch 99/100\n",
            "484/484 [==============================] - 6s 13ms/step - loss: 5.4604 - accuracy: 0.0667\n",
            "Epoch 100/100\n",
            "484/484 [==============================] - 6s 13ms/step - loss: 5.4690 - accuracy: 0.0646\n"
          ],
          "name": "stdout"
        }
      ]
    },
    {
      "cell_type": "code",
      "metadata": {
        "colab_type": "code",
        "id": "1fXTEO3GJ282",
        "colab": {
          "base_uri": "https://localhost:8080/",
          "height": 545
        },
        "outputId": "9c1f6178-bf58-4a01-a421-9afcd54aa690"
      },
      "source": [
        "import matplotlib.pyplot as plt\n",
        "acc = history.history['accuracy']\n",
        "loss = history.history['loss']\n",
        "\n",
        "epochs = range(len(acc))\n",
        "\n",
        "plt.plot(epochs, acc, 'b', label='Training accuracy')\n",
        "plt.title('Training accuracy')\n",
        "\n",
        "plt.figure()\n",
        "\n",
        "plt.plot(epochs, loss, 'b', label='Training Loss')\n",
        "plt.title('Training loss')\n",
        "plt.legend()\n",
        "\n",
        "plt.show()"
      ],
      "execution_count": 27,
      "outputs": [
        {
          "output_type": "display_data",
          "data": {
            "image/png": "[encoded data removed]",
            "text/plain": [
              "<Figure size 432x288 with 1 Axes>"
            ]
          },
          "metadata": {
            "tags": [],
            "needs_background": "light"
          }
        },
        {
          "output_type": "display_data",
          "data": {
            "image/png": "[encoded data removed]",
            "text/plain": [
              "<Figure size 432x288 with 1 Axes>"
            ]
          },
          "metadata": {
            "tags": [],
            "needs_background": "light"
          }
        }
      ]
    },
    {
      "cell_type": "code",
      "metadata": {
        "colab_type": "code",
        "id": "6Vc6PHgxa6Hm",
        "colab": {
          "base_uri": "https://localhost:8080/",
          "height": 54
        },
        "outputId": "2d03c20d-f796-4840-939b-94d91913d955"
      },
      "source": [
        "seed_text = \"Help me Obi Wan Kenobi, you're my only hope\"\n",
        "next_words = 100\n",
        "  \n",
        "for _ in range(next_words):\n",
        "\ttoken_list = tokenizer.texts_to_sequences([seed_text])[0]\n",
        "\ttoken_list = pad_sequences([token_list], maxlen=max_sequence_len-1, padding='pre')\n",
        "\tpredicted = model.predict_classes(token_list, verbose=0)\n",
        "\toutput_word = \"\"\n",
        "\tfor word, index in tokenizer.word_index.items():\n",
        "\t\tif index == predicted:\n",
        "\t\t\toutput_word = word\n",
        "\t\t\tbreak\n",
        "\tseed_text += \" \" + output_word\n",
        "print(seed_text)"
      ],
      "execution_count": 28,
      "outputs": [
        {
          "output_type": "stream",
          "text": [
            "Help me Obi Wan Kenobi, you're my only hope and i have be i have be i have not be i have not be love in the world and i have not be i have not be i have in the world and i have in the love is the love and love i have be i have in the world and i have i have i have not be i have in the world and i have in the love is the love and love i have be i have in the world and i have i have i have not be i have in the world and\n"
          ],
          "name": "stdout"
        }
      ]
    }
  ]
}